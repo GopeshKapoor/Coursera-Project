{
 "cells": [
  {
   "cell_type": "markdown",
   "id": "51f890e6-fb1f-4256-8b59-67d3f97fb1ea",
   "metadata": {},
   "source": [
    "# Tools For DATA SCIENCE"
   ]
  },
  {
   "cell_type": "markdown",
   "id": "b4f1a083-14fb-4028-b060-9c629e31f81e",
   "metadata": {},
   "source": [
    "Welcome to this Data Science notebook! In this notebook, we will explore various data science concepts, languages, libraries, and tools. Feel free to dive in and explore the exciting world of data science with us."
   ]
  },
  {
   "cell_type": "markdown",
   "id": "b312bad8-8a10-4306-94c3-211adb9830ed",
   "metadata": {},
   "source": [
    "#### Languages Required for Data Science:-\n",
    "1. Python\n",
    "2. R\n",
    "3. SQL\n",
    "4. Java\n",
    "5. Scala\n",
    "6. Julia"
   ]
  },
  {
   "cell_type": "markdown",
   "id": "ad0c6a1e-856b-4a32-966c-7b82392e3efd",
   "metadata": {},
   "source": [
    "#### Libraries required for Data Science:-\n",
    "1. NumPy\n",
    "2. Pandas\n",
    "3. Tensorflow\n",
    "4. Seaborn\n"
   ]
  },
  {
   "cell_type": "markdown",
   "id": "064082f2-780c-4140-9504-50df349cf44e",
   "metadata": {},
   "source": [
    "#### Data Science Tools\n",
    "\n",
    "|Tools |Description|\n",
    "|------|-----------|\n",
    "|Python|Versatile programming language with extensive libraries for data manipulation and analysis.|\n",
    "|R|Statistical computing and graphics software commonly used for data analysis and visualization.|\n",
    "|SQL|Domain-specific language for managing and querying relational databases efficiently.|\n",
    "|Jupyter Notebook|Interactive web-based tool for creating and sharing documents containing live code, equations, visualizations, and narrative text.|\n",
    "|Tableau|Data visualization tool that allows users to create interactive and shareable dashboards.|\n",
    "\n"
   ]
  },
  {
   "cell_type": "markdown",
   "id": "d4dd24ab-7690-4380-9ba2-8a4e779dd53b",
   "metadata": {},
   "source": [
    "### Arithmetic Expression Examples\n",
    "\n",
    "Let's explore some basic arithmetic operations using Python:\n",
    "\n",
    "1. ***Addition***\n",
    "2. ***Subtraction***\n",
    "3. ***Multiplication***\n",
    "4. ***Division***\n",
    "5. ***Exponentiation***\n"
   ]
  },
  {
   "cell_type": "markdown",
   "id": "7513b602-8a73-4b37-b6ac-5539d5c075d9",
   "metadata": {},
   "source": [
    "#### Multiplying and adding two Numbers:-\n",
    "\n",
    "1. **Addition**: \n",
    "   - Example: 2 + 3 = 5\n",
    "\n",
    "2. **Multiplication**:\n",
    "   - Example: 2 * 3 = 6\n",
    "\n"
   ]
  },
  {
   "cell_type": "code",
   "execution_count": 6,
   "id": "0cc382c5-7eee-4abf-92ed-1969a8dbcd96",
   "metadata": {
    "tags": []
   },
   "outputs": [
    {
     "name": "stdout",
     "output_type": "stream",
     "text": [
      "2 hours is equal to 120 minutes.\n"
     ]
    }
   ],
   "source": [
    "# Input the number of hours\n",
    "hours = 2\n",
    "\n",
    "# Convert hours to minutes\n",
    "minutes = hours * 60\n",
    "\n",
    "# Print the result\n",
    "print(f\"{hours} hours is equal to {minutes} minutes.\")\n",
    "\n"
   ]
  },
  {
   "cell_type": "markdown",
   "id": "a81874c1-4330-409c-b9b3-555044458901",
   "metadata": {},
   "source": [
    "### Objectives of some common tools used in data science:\n",
    "\n",
    "1. **Python**: Python is a versatile programming language used in data science for tasks such as data manipulation, analysis, visualization, and machine learning. The objective of Python in data science is to provide a flexible and powerful tool for handling various aspects of the data science workflow efficiently.\n",
    "\n",
    "2. **R**: R is a statistical computing and graphics software widely used for data analysis and visualization in data science. The objective of R is to provide a comprehensive environment for statistical computing and data visualization, making it easier for data scientists to explore and analyze data effectively.\n",
    "\n",
    "3. **SQL**: SQL (Structured Query Language) is a domain-specific language used for managing and querying relational databases. The objective of SQL in data science is to provide a standardized and efficient way to interact with databases, allowing data scientists to extract, manipulate, and analyze data stored in relational databases.\n",
    "\n",
    "4. **Jupyter Notebook**: Jupyter Notebook is an interactive web-based tool used for creating and sharing documents containing live code, equations, visualizations, and narrative text. The objective of Jupyter Notebook in data science is to provide a flexible and collaborative environment for data analysis, exploration, and communication of results.\n",
    "\n",
    "5. **Tableau**: Tableau is a data visualization tool that enables users to create interactive and shareable dashboards. The objective of Tableau in data science is to help users visually explore and communicate insights from data effectively, making it easier to derive actionable insights from complex datasets.\n",
    "\n",
    "Each of these tools serves a specific purpose in the data science workflow, aiming to streamline tasks, enhance productivity, and facilitate the analysis and interpretation of data for informed decision-making."
   ]
  },
  {
   "cell_type": "markdown",
   "id": "56e3f37e-f753-4508-bc3c-0669b3e17ce7",
   "metadata": {},
   "source": [
    "#### **Authors Name** :- ***Gopesh Kapoor***"
   ]
  },
  {
   "cell_type": "code",
   "execution_count": null,
   "id": "5b9e86a7-6d8a-4de8-a9cc-68480313a44a",
   "metadata": {},
   "outputs": [],
   "source": []
  }
 ],
 "metadata": {
  "kernelspec": {
   "display_name": "Python",
   "language": "python",
   "name": "conda-env-python-py"
  },
  "language_info": {
   "codemirror_mode": {
    "name": "ipython",
    "version": 3
   },
   "file_extension": ".py",
   "mimetype": "text/x-python",
   "name": "python",
   "nbconvert_exporter": "python",
   "pygments_lexer": "ipython3",
   "version": "3.7.12"
  }
 },
 "nbformat": 4,
 "nbformat_minor": 5
}
